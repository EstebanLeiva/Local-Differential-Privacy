{
 "cells": [
  {
   "cell_type": "code",
   "execution_count": null,
   "metadata": {},
   "outputs": [],
   "source": [
    "import numpy as np \n",
    "import random"
   ]
  },
  {
   "cell_type": "code",
   "execution_count": null,
   "metadata": {},
   "outputs": [],
   "source": [
    "def duchi_1d(t_i:float,e:float):\n",
    "    #Calculate p for bernoulli variable\n",
    "    p = ((np.exp(e)-1)/(2*np.exp(e)+2))*t_i + 1/2\n",
    "    #Random sample for bernoulli(p)\n",
    "    u = np.random.binomial(1,p)\n",
    "    #t_i with noise added\n",
    "    if(u==1):\n",
    "        t_i_out = (np.exp(e)+1)/(np.exp(e)-1)\n",
    "    else:\n",
    "        t_i_out = -(np.exp(e)+1)/(np.exp(e)-1)\n",
    "    return t_i_out"
   ]
  },
  {
   "cell_type": "code",
   "execution_count": null,
   "metadata": {},
   "outputs": [],
   "source": [
    "def pm_1d(t_i:float,e:float):\n",
    "    #Calculate C\n",
    "    C = (np.exp(e/2)+1)/(np.exp(e/2)-1)\n",
    "    #Sample x from Unif(0,1)\n",
    "    x = np.random.uniform(0,1)\n",
    "\n",
    "    #Calculate lower l_t_i\n",
    "    l_t_i = ((C+1)/2)*t_i-(C-1)/2\n",
    "    #Calculate upper r_t_i\n",
    "    r_t_i = l_t_i + C -1 \n",
    "\n",
    "    if x<(np.exp(e/2))/(np.exp(e/2)+1):\n",
    "        t_i_out = np.random.uniform(l_t_i,r_t_i)\n",
    "\n",
    "    else:\n",
    "        #Uniform sample from [-C,l_t_i) U (r_t_i,C]\n",
    "        u = np.random.uniform(0,2*C-(r_t_i - l_t_i))\n",
    "\n",
    "        if u<(l_t_i - C):\n",
    "            t_i_out = u - C\n",
    "        else:\n",
    "            t_i_out = u - C + (r_t_i - l_t_i)\n",
    "        \n",
    "            \n",
    "    return t_i_out"
   ]
  },
  {
   "cell_type": "code",
   "execution_count": null,
   "metadata": {},
   "outputs": [],
   "source": [
    "e_star = 0.61\n",
    "\n",
    "def alfa(e):\n",
    "    if e > e_star:\n",
    "        return 1 - np.exp(-e/2)\n",
    "    else:\n",
    "        return 0\n",
    "\n",
    "def hm_1d(t_i:float,e:float):\n",
    "    bernoulli = np.random.binomial(1,alfa(e))\n",
    "    if bernoulli == 1:\n",
    "        return pm_1d(t_i,e)\n",
    "    else:\n",
    "        return duchi_1d(t_i,e)"
   ]
  },
  {
   "cell_type": "code",
   "execution_count": null,
   "metadata": {},
   "outputs": [],
   "source": [
    "def wang_multidimensional(t:list,d:int,e:float):\n",
    "    t_out = [0 for i in range(d)]\n",
    "    k = max(1,min(d,int(e/2.5)))\n",
    "    ls = [i for i in range(0,d)]\n",
    "    sampled = []\n",
    "    for i in range(len(ls)):\n",
    "        x = random.choice(ls)\n",
    "        sampled.append(x)\n",
    "        ls.remove(x)\n",
    "    for j in sampled:\n",
    "        t_out[j] = hm_1d(t[j],e/k)*(d/k)\n",
    "    return t_out"
   ]
  },
  {
   "cell_type": "code",
   "execution_count": null,
   "metadata": {},
   "outputs": [],
   "source": [
    "wang_multidimensional([0.5,0.3,0.7,0.8,0.99],5,0.7)"
   ]
  },
  {
   "cell_type": "code",
   "execution_count": null,
   "metadata": {},
   "outputs": [],
   "source": [
    "valores = [\"hombre\",\"mujer\"]\n",
    "v = \"mujer\""
   ]
  },
  {
   "cell_type": "code",
   "execution_count": null,
   "metadata": {},
   "outputs": [],
   "source": [
    "\"\"\" \n",
    "Encodes a categorical value to a length-len(categorical_list) binary vector\n",
    "where only the v-th position is 1.\n",
    "\"\"\"\n",
    "def ue_encoding(v:str,categorical_list:list):\n",
    "    t = [0 for i in range(len(categorical_list))]\n",
    "    index = categorical_list.index(v)\n",
    "    t[index] = 1\n",
    "    return t"
   ]
  },
  {
   "cell_type": "code",
   "execution_count": null,
   "metadata": {},
   "outputs": [],
   "source": [
    "def sue(t:str,categorical_list:list,e:float):\n",
    "    v_encoded = ue_encoding(t,categorical_list)\n",
    "    p = (np.exp(e/2))/(np.exp(e/2)+1)\n",
    "    q = 1/(np.exp(e/2)+1)\n",
    "    for i in range(len(v_encoded)):\n",
    "        v_encoded[i] = np.random.binomial(1,p)\n",
    "    return v_encoded\n"
   ]
  },
  {
   "cell_type": "code",
   "execution_count": null,
   "metadata": {},
   "outputs": [],
   "source": [
    "sue(\"mujer\",valores,0.1)"
   ]
  },
  {
   "cell_type": "code",
   "execution_count": null,
   "metadata": {},
   "outputs": [],
   "source": [
    "def wang_multidimensional_withcategorical(t:list,d:int,e:float,categorical_list:list):\n",
    "    t_out = [0 for i in range(d)]\n",
    "    k = max(1,min(d,int(e/2.5)))\n",
    "    ls = [i for i in range(0,d)]\n",
    "    sampled = []\n",
    "    for i in range(0,k):\n",
    "        x = random.choice(ls)\n",
    "        sampled.append(x)\n",
    "        ls.remove(x)\n",
    "    for j in sampled:\n",
    "        if type(t[j]) == float:\n",
    "            t_out[j] = hm_1d(t[j],e/k)*(d/k)\n",
    "        else:\n",
    "            t_out[j] = sue(t[j],categorical_list,e/k)\n",
    "    return t_out"
   ]
  },
  {
   "cell_type": "code",
   "execution_count": null,
   "metadata": {},
   "outputs": [],
   "source": [
    "wang_multidimensional_withcategorical([0.2,0.3,0.9,'hombre'],4,0.2,valores)"
   ]
  }
 ],
 "metadata": {
  "kernelspec": {
   "display_name": "Python 3.7.9 64-bit",
   "language": "python",
   "name": "python3"
  },
  "language_info": {
   "codemirror_mode": {
    "name": "ipython",
    "version": 3
   },
   "file_extension": ".py",
   "mimetype": "text/x-python",
   "name": "python",
   "nbconvert_exporter": "python",
   "pygments_lexer": "ipython3",
   "version": "3.7.9"
  },
  "orig_nbformat": 4,
  "vscode": {
   "interpreter": {
    "hash": "db5e7f43ddd1a940e16541c6624f4d1620a25dde80cce5b62e202315d3978520"
   }
  }
 },
 "nbformat": 4,
 "nbformat_minor": 2
}
